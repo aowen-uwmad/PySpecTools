{
 "cells": [
  {
   "cell_type": "markdown",
   "metadata": {
    "slideshow": {
     "slide_type": "slide"
    }
   },
   "source": [
    "# Using PySpecTools\n",
    "\n",
    "## Assigning spectral line surveys with the `spectra` module\n",
    "\n",
    "\n",
    "### Kelvin Lee\n",
    "### Center for Astrophysics, Harvard and Smithsonian\n",
    "---\n"
   ]
  },
  {
   "cell_type": "markdown",
   "metadata": {
    "slideshow": {
     "slide_type": "slide"
    }
   },
   "source": [
    "## Overview"
   ]
  },
  {
   "cell_type": "markdown",
   "metadata": {
    "slideshow": {
     "slide_type": "fragment"
    }
   },
   "source": [
    "PySpecTools provides a set of tools that help with automated assignment and analysis of spectral line surveys, either from the laboratory or from astronomical observations. This notebook will provide a quick overview of what routines are available and how to use them.\n",
    "\n",
    "The design philosophy behind most of the routines in this module is reproducibility and automation. The idea is to be systematic about the line assignment procedure such that everything that is done in these pipelines can be easily reproduced by you or someone else. Ultimately, the hope is that this will make error-spotting easier, as well as streamline the data analysis up to publication."
   ]
  },
  {
   "cell_type": "markdown",
   "metadata": {
    "slideshow": {
     "slide_type": "subslide"
    }
   },
   "source": [
    "## How does it all work?"
   ]
  },
  {
   "cell_type": "markdown",
   "metadata": {
    "slideshow": {
     "slide_type": "fragment"
    }
   },
   "source": [
    "The procedure is designed around three Python classes: `Assignment`, `Session`, and `AssignmentSession`. The first two are actually `DataClass` objects, which are newly introduced in Python 3.7. For routine analysis, you will most likely only be working with `AssignmentSession`, and everything else is dealt with in the backend."
   ]
  },
  {
   "cell_type": "markdown",
   "metadata": {
    "slideshow": {
     "slide_type": "subslide"
    }
   },
   "source": [
    "## `Assignment`\n",
    "\n",
    "The `Assignment` class holds information on any assignment you make. The information stored is such that any identification made is unambiguous. The properties stored include:\n",
    "\n",
    "1. Name of the molecule,\n",
    "2. Chemical formula or stochiometry,\n",
    "3. Frequency of the transition (in MHz),\n",
    "4. Observed intensity,\n",
    "5. Catalog frequency,\n",
    "6. Catalog intensity,\n",
    "7. Whether the line is a U-line or not,\n",
    "8. State energy (in Kelvin)\n",
    "\n",
    "The `Assignment` class is used whenever you assign a line -- either to a known molecule or to an unidentified species. Ultimately, each `Assignment` is added to a local database, which will allow you to determine coincidences between different spectra (e.g. common U-lines)."
   ]
  },
  {
   "cell_type": "markdown",
   "metadata": {
    "slideshow": {
     "slide_type": "subslide"
    }
   },
   "source": [
    "## `Session`\n",
    "\n",
    "The `Session` class holds information about the experiment you are working on. This includes an ID for the spectrum, the elemental composition, the rotational temperature, Doppler width, and settings for frequency proximity for automated assignment. The composition, temperature, and proximity are important factors because they are used internally to determine which molecules/transitions are viable candidates for a given spectral feature. "
   ]
  },
  {
   "cell_type": "markdown",
   "metadata": {
    "slideshow": {
     "slide_type": "subslide"
    }
   },
   "source": [
    "## `AssignmentSession`\n",
    "\n",
    "The `AssignmentSession` class is the main workhorse of this module, and the rest of this notebook will be devoted to reviewing some specific features that are available."
   ]
  },
  {
   "cell_type": "markdown",
   "metadata": {
    "slideshow": {
     "slide_type": "slide"
    }
   },
   "source": [
    "### Starting an `AssignmentSession`"
   ]
  },
  {
   "cell_type": "markdown",
   "metadata": {
    "slideshow": {
     "slide_type": "fragment"
    }
   },
   "source": [
    "The only two things you _need_ for an `AssignmentSession` are a spectrum, and an experiment ID."
   ]
  },
  {
   "cell_type": "markdown",
   "metadata": {
    "slideshow": {
     "slide_type": "fragment"
    }
   },
   "source": [
    "Let's say I have a file called `SgrB2_spectrum.txt`, which is delimited by tabs."
   ]
  },
  {
   "cell_type": "code",
   "execution_count": null,
   "metadata": {},
   "outputs": [],
   "source": []
  }
 ],
 "metadata": {
  "@webio": {
   "lastCommId": "eb85349d39ba48538f8126b52955d1ef",
   "lastKernelId": "b364dd2f-c1f6-4d56-96b5-d67a6a0ab6da"
  },
  "celltoolbar": "Slideshow",
  "kernelspec": {
   "display_name": "Python 3",
   "language": "python",
   "name": "python3"
  },
  "language_info": {
   "codemirror_mode": {
    "name": "ipython",
    "version": 3
   },
   "file_extension": ".py",
   "mimetype": "text/x-python",
   "name": "python",
   "nbconvert_exporter": "python",
   "pygments_lexer": "ipython3",
   "version": "3.7.1"
  },
  "latex_envs": {
   "LaTeX_envs_menu_present": true,
   "autoclose": false,
   "autocomplete": true,
   "bibliofile": "biblio.bib",
   "cite_by": "apalike",
   "current_citInitial": 1,
   "eqLabelWithNumbers": true,
   "eqNumInitial": 1,
   "hotkeys": {
    "equation": "Ctrl-E",
    "itemize": "Ctrl-I"
   },
   "labels_anchors": false,
   "latex_user_defs": false,
   "report_style_numbering": false,
   "user_envs_cfg": false
  }
 },
 "nbformat": 4,
 "nbformat_minor": 2
}
